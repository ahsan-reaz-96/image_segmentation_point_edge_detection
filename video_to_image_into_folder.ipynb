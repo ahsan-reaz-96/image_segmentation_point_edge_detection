{
  "nbformat": 4,
  "nbformat_minor": 0,
  "metadata": {
    "colab": {
      "provenance": [],
      "authorship_tag": "ABX9TyNqchnRRkoY/789XJTgxEzK",
      "include_colab_link": true
    },
    "kernelspec": {
      "name": "python3",
      "display_name": "Python 3"
    },
    "language_info": {
      "name": "python"
    }
  },
  "cells": [
    {
      "cell_type": "markdown",
      "metadata": {
        "id": "view-in-github",
        "colab_type": "text"
      },
      "source": [
        "<a href=\"https://colab.research.google.com/github/ahsan-reaz-96/image_segmentation_point_edge_detection/blob/main/video_to_image_into_folder.ipynb\" target=\"_parent\"><img src=\"https://colab.research.google.com/assets/colab-badge.svg\" alt=\"Open In Colab\"/></a>"
      ]
    },
    {
      "cell_type": "code",
      "execution_count": 1,
      "metadata": {
        "colab": {
          "base_uri": "https://localhost:8080/"
        },
        "id": "1X7eZ_oIEK7N",
        "outputId": "d1f03569-ee74-46f2-c163-703476e62cd6"
      },
      "outputs": [
        {
          "output_type": "stream",
          "name": "stdout",
          "text": [
            "✅ Extracted 759 frames and saved to 'video_frames'\n"
          ]
        }
      ],
      "source": [
        "import cv2\n",
        "import os\n",
        "\n",
        "# Path to video\n",
        "video_path = \"/content/MyVodafone.mp4\"\n",
        "\n",
        "# Create output folder\n",
        "output_folder = \"video_frames\"\n",
        "os.makedirs(output_folder, exist_ok=True)\n",
        "\n",
        "# Open video\n",
        "cap = cv2.VideoCapture(video_path)\n",
        "\n",
        "frame_count = 0\n",
        "while True:\n",
        "    ret, frame = cap.read()\n",
        "    if not ret:  # No more frames\n",
        "        break\n",
        "\n",
        "    # Save frame as image\n",
        "    frame_filename = os.path.join(output_folder, f\"frame_{frame_count:04d}.jpg\")\n",
        "    cv2.imwrite(frame_filename, frame)\n",
        "\n",
        "    frame_count += 1\n",
        "\n",
        "cap.release()\n",
        "print(f\"✅ Extracted {frame_count} frames and saved to '{output_folder}'\")\n"
      ]
    }
  ]
}